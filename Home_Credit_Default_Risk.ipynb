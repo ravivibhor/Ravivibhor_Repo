{
 "cells": [
  {
   "cell_type": "code",
   "execution_count": 1,
   "metadata": {},
   "outputs": [],
   "source": [
    "# Import libraries necessary for this project\n",
    "import numpy as np\n",
    "import pandas as pd\n",
    "from time import time\n",
    "from IPython.display import display # Allows the use of display() for DataFrames\n",
    "\n",
    "\n",
    "# Load the Home Credit Default Risk dataset\n",
    "data_train = pd.read_csv(\"Udacity_Projects/Home_Credit_Default_Risk/application_train.csv\",low_memory=False)\n",
    "data_bureau = pd.read_csv(\"Udacity_Projects/Home_Credit_Default_Risk/bureau.csv\",low_memory=False)\n",
    "data_bureau_balance = pd.read_csv(\"Udacity_Projects/Home_Credit_Default_Risk/bureau_balance.csv\",low_memory=False)\n",
    "data_credit_card_balance = pd.read_csv(\"Udacity_Projects/Home_Credit_Default_Risk/credit_card_balance.csv\",low_memory=False)\n",
    "data_installments_payments= pd.read_csv(\"Udacity_Projects/Home_Credit_Default_Risk/installments_payments.csv\",low_memory=False)\n",
    "data_POS_CASH_balance= pd.read_csv(\"Udacity_Projects/Home_Credit_Default_Risk/POS_CASH_balance.csv\",low_memory=False)\n",
    "data_previous_application= pd.read_csv(\"Udacity_Projects/Home_Credit_Default_Risk/previous_application.csv\",low_memory=False)\n",
    "data_test = pd.read_csv(\"Udacity_Projects/Home_Credit_Default_Risk/application_test.csv\",low_memory=False)\n"
   ]
  },
  {
   "cell_type": "code",
   "execution_count": 2,
   "metadata": {},
   "outputs": [
    {
     "name": "stdout",
     "output_type": "stream",
     "text": [
      "Below is statistics of primary key data in data_bureau which is available as foreign key in data_bureau_balance\n"
     ]
    },
    {
     "data": {
      "text/plain": [
       "False    942074\n",
       "True     774354\n",
       "Name: SK_ID_BUREAU, dtype: int64"
      ]
     },
     "metadata": {},
     "output_type": "display_data"
    },
    {
     "name": "stdout",
     "output_type": "stream",
     "text": [
      "Below is statistics of primary key data in data_train which is available as foreign key in data_bureau\n"
     ]
    },
    {
     "data": {
      "text/plain": [
       "True     263491\n",
       "False     44020\n",
       "Name: SK_ID_CURR, dtype: int64"
      ]
     },
     "metadata": {},
     "output_type": "display_data"
    },
    {
     "name": "stdout",
     "output_type": "stream",
     "text": [
      "Below is statistics of primary key data in data_train which is available as foreign key in data_credit_card_balance\n"
     ]
    },
    {
     "data": {
      "text/plain": [
       "False    220606\n",
       "True      86905\n",
       "Name: SK_ID_CURR, dtype: int64"
      ]
     },
     "metadata": {},
     "output_type": "display_data"
    },
    {
     "name": "stdout",
     "output_type": "stream",
     "text": [
      "Below is statistics of primary key data in data_train which is available as foreign key in data_installments_payments\n"
     ]
    },
    {
     "data": {
      "text/plain": [
       "True     291643\n",
       "False     15868\n",
       "Name: SK_ID_CURR, dtype: int64"
      ]
     },
     "metadata": {},
     "output_type": "display_data"
    },
    {
     "name": "stdout",
     "output_type": "stream",
     "text": [
      "Below is statistics of primary key data in data_train which is available as foreign key in data_POS_CASH_balance\n"
     ]
    },
    {
     "data": {
      "text/plain": [
       "True     289444\n",
       "False     18067\n",
       "Name: SK_ID_CURR, dtype: int64"
      ]
     },
     "metadata": {},
     "output_type": "display_data"
    },
    {
     "name": "stdout",
     "output_type": "stream",
     "text": [
      "Below is statistics of primary key data in data_train which is available as foreign key in data_previous_application\n"
     ]
    },
    {
     "data": {
      "text/plain": [
       "True     291057\n",
       "False     16454\n",
       "Name: SK_ID_CURR, dtype: int64"
      ]
     },
     "metadata": {},
     "output_type": "display_data"
    }
   ],
   "source": [
    "print('Below is statistics of primary key data in data_bureau which is available as foreign key in data_bureau_balance')\n",
    "display(data_bureau['SK_ID_BUREAU'].isin(data_bureau_balance['SK_ID_BUREAU']).value_counts())\n",
    "\n",
    "print('Below is statistics of primary key data in data_train which is available as foreign key in data_bureau')\n",
    "display(data_train['SK_ID_CURR'].isin(data_bureau['SK_ID_CURR']).value_counts())\n",
    "\n",
    "print('Below is statistics of primary key data in data_train which is available as foreign key in data_credit_card_balance')\n",
    "display(data_train['SK_ID_CURR'].isin(data_credit_card_balance['SK_ID_CURR']).value_counts())\n",
    "\n",
    "print('Below is statistics of primary key data in data_train which is available as foreign key in data_installments_payments')\n",
    "display(data_train['SK_ID_CURR'].isin(data_installments_payments['SK_ID_CURR']).value_counts())\n",
    "\n",
    "print('Below is statistics of primary key data in data_train which is available as foreign key in data_POS_CASH_balance')\n",
    "display(data_train['SK_ID_CURR'].isin(data_POS_CASH_balance['SK_ID_CURR']).value_counts())\n",
    "\n",
    "print('Below is statistics of primary key data in data_train which is available as foreign key in data_previous_application')\n",
    "display(data_train['SK_ID_CURR'].isin(data_previous_application['SK_ID_CURR']).value_counts())\n"
   ]
  },
  {
   "cell_type": "code",
   "execution_count": 3,
   "metadata": {},
   "outputs": [
    {
     "name": "stdout",
     "output_type": "stream",
     "text": [
      "Below is statistics of primary key data in data_test which is available as foreign key in data_bureau\n"
     ]
    },
    {
     "data": {
      "text/plain": [
       "True     42320\n",
       "False     6424\n",
       "Name: SK_ID_CURR, dtype: int64"
      ]
     },
     "metadata": {},
     "output_type": "display_data"
    },
    {
     "name": "stdout",
     "output_type": "stream",
     "text": [
      "Below is statistics of primary key data in data_test which is available as foreign key in data_credit_card_balance\n"
     ]
    },
    {
     "data": {
      "text/plain": [
       "False    32091\n",
       "True     16653\n",
       "Name: SK_ID_CURR, dtype: int64"
      ]
     },
     "metadata": {},
     "output_type": "display_data"
    },
    {
     "name": "stdout",
     "output_type": "stream",
     "text": [
      "Below is statistics of primary key data in data_test which is available as foreign key in data_installments_payments\n"
     ]
    },
    {
     "data": {
      "text/plain": [
       "True     47944\n",
       "False      800\n",
       "Name: SK_ID_CURR, dtype: int64"
      ]
     },
     "metadata": {},
     "output_type": "display_data"
    },
    {
     "name": "stdout",
     "output_type": "stream",
     "text": [
      "Below is statistics of primary key data in data_test which is available as foreign key in data_POS_CASH_balance\n"
     ]
    },
    {
     "data": {
      "text/plain": [
       "True     47808\n",
       "False      936\n",
       "Name: SK_ID_CURR, dtype: int64"
      ]
     },
     "metadata": {},
     "output_type": "display_data"
    },
    {
     "name": "stdout",
     "output_type": "stream",
     "text": [
      "Below is statistics of primary key data in data_test which is available as foreign key in data_previous_application\n"
     ]
    },
    {
     "data": {
      "text/plain": [
       "True     47800\n",
       "False      944\n",
       "Name: SK_ID_CURR, dtype: int64"
      ]
     },
     "metadata": {},
     "output_type": "display_data"
    }
   ],
   "source": [
    "print('Below is statistics of primary key data in data_test which is available as foreign key in data_bureau')\n",
    "display(data_test['SK_ID_CURR'].isin(data_bureau['SK_ID_CURR']).value_counts())\n",
    "\n",
    "print('Below is statistics of primary key data in data_test which is available as foreign key in data_credit_card_balance')\n",
    "display(data_test['SK_ID_CURR'].isin(data_credit_card_balance['SK_ID_CURR']).value_counts())\n",
    "\n",
    "print('Below is statistics of primary key data in data_test which is available as foreign key in data_installments_payments')\n",
    "display(data_test['SK_ID_CURR'].isin(data_installments_payments['SK_ID_CURR']).value_counts())\n",
    "\n",
    "print('Below is statistics of primary key data in data_test which is available as foreign key in data_POS_CASH_balance')\n",
    "display(data_test['SK_ID_CURR'].isin(data_POS_CASH_balance['SK_ID_CURR']).value_counts())\n",
    "\n",
    "print('Below is statistics of primary key data in data_test which is available as foreign key in data_previous_application')\n",
    "display(data_test['SK_ID_CURR'].isin(data_previous_application['SK_ID_CURR']).value_counts())"
   ]
  },
  {
   "cell_type": "code",
   "execution_count": 4,
   "metadata": {},
   "outputs": [
    {
     "name": "stdout",
     "output_type": "stream",
     "text": [
      "Below is Shape of data_bureau before filtering\n"
     ]
    },
    {
     "data": {
      "text/plain": [
       "(1716428, 17)"
      ]
     },
     "metadata": {},
     "output_type": "display_data"
    },
    {
     "name": "stdout",
     "output_type": "stream",
     "text": [
      "Below is Shape of data_bureau after filtering to retain only that data where SK_ID_BUREAU is present in data_bureau_balance\n"
     ]
    },
    {
     "data": {
      "text/plain": [
       "(774354, 17)"
      ]
     },
     "metadata": {},
     "output_type": "display_data"
    },
    {
     "name": "stdout",
     "output_type": "stream",
     "text": [
      "Below is Shape of data_train before filtering\n"
     ]
    },
    {
     "data": {
      "text/plain": [
       "(307511, 122)"
      ]
     },
     "metadata": {},
     "output_type": "display_data"
    },
    {
     "name": "stdout",
     "output_type": "stream",
     "text": [
      "Below is final Shape of data_train after filtering to retain only that data where pk SK_ID_CURR is available as foreign key in all other tables and this will be used as final training dataset\n"
     ]
    },
    {
     "data": {
      "text/plain": [
       "(100, 122)"
      ]
     },
     "metadata": {},
     "output_type": "display_data"
    },
    {
     "data": {
      "text/plain": [
       "(100, 122)"
      ]
     },
     "metadata": {},
     "output_type": "display_data"
    }
   ],
   "source": [
    "\n",
    "print('Below is Shape of data_bureau before filtering')\n",
    "display(data_bureau.shape)\n",
    "\n",
    "#filter data bureau with only data where SK_ID_BUREAU is present in data_bureau_balance\n",
    "data_bureau=data_bureau.loc[(data_bureau['SK_ID_BUREAU'].isin(data_bureau_balance['SK_ID_BUREAU']))]\n",
    "\n",
    "print('Below is Shape of data_bureau after filtering to retain only that data where SK_ID_BUREAU is present in data_bureau_balance')\n",
    "display(data_bureau.shape)\n",
    "\n",
    "\n",
    "print('Below is Shape of data_train before filtering')\n",
    "display(data_train.shape)\n",
    "\n",
    "# To reduce memory requirements populate data in application_train.csv only with those \n",
    "# primary key SK_ID_CURR which are available as foreign key in all other tables\n",
    "\n",
    "data_train=data_train.loc[(data_train['SK_ID_CURR'].isin(data_bureau['SK_ID_CURR'])) \n",
    "                          & (data_train['SK_ID_CURR'].isin(data_credit_card_balance['SK_ID_CURR']))\n",
    "                          & (data_train['SK_ID_CURR'].isin(data_installments_payments['SK_ID_CURR']))\n",
    "                          & (data_train['SK_ID_CURR'].isin(data_POS_CASH_balance['SK_ID_CURR']))\n",
    "                          & (data_train['SK_ID_CURR'].isin(data_previous_application['SK_ID_CURR']))\n",
    "                         ] \n",
    "\n",
    "\n",
    "# Take only top 5k rows to resolve memory issues\n",
    "data_train=data_train.head(100)\n",
    "\n",
    "print('Below is final Shape of data_train after filtering to retain only that data where pk SK_ID_CURR is available as foreign key in all other tables and this will be used as final training dataset')\n",
    "display(data_train.shape)\n",
    "\n",
    "data_train.to_csv(\"Udacity_Projects/Home_Credit_Default_Risk/application_train_reduced_merged.csv\")\n",
    "display(data_train.shape)\n",
    "\n"
   ]
  },
  {
   "cell_type": "code",
   "execution_count": 5,
   "metadata": {},
   "outputs": [
    {
     "name": "stdout",
     "output_type": "stream",
     "text": [
      "Below is Shape of data_test before filtering\n"
     ]
    },
    {
     "data": {
      "text/plain": [
       "(48744, 121)"
      ]
     },
     "metadata": {},
     "output_type": "display_data"
    },
    {
     "name": "stdout",
     "output_type": "stream",
     "text": [
      "Below is final Shape of data_test after filtering to retain only that data where pk SK_ID_CURR is available as foreign key in all other tables and this will be used as final test dataset\n"
     ]
    },
    {
     "data": {
      "text/plain": [
       "(100, 121)"
      ]
     },
     "metadata": {},
     "output_type": "display_data"
    }
   ],
   "source": [
    "print('Below is Shape of data_test before filtering')\n",
    "display(data_test.shape)\n",
    "\n",
    "# To reduce memory requirements populate data in application_train.csv only with those \n",
    "# primary key SK_ID_CURR which are available as foreign key in all other tables\n",
    "\n",
    "data_test=data_test.loc[(data_test['SK_ID_CURR'].isin(data_bureau['SK_ID_CURR'])) \n",
    "                          & (data_test['SK_ID_CURR'].isin(data_credit_card_balance['SK_ID_CURR']))\n",
    "                          & (data_test['SK_ID_CURR'].isin(data_installments_payments['SK_ID_CURR']))\n",
    "                          & (data_test['SK_ID_CURR'].isin(data_POS_CASH_balance['SK_ID_CURR']))\n",
    "                          & (data_test['SK_ID_CURR'].isin(data_previous_application['SK_ID_CURR']))\n",
    "                         ] \n",
    "\n",
    "data_test=data_test.head(100)\n",
    "data_test=data_test.fillna(0)\n",
    "\n",
    "print('Below is final Shape of data_test after filtering to retain only that data where pk SK_ID_CURR is available as foreign key in all other tables and this will be used as final test dataset')\n",
    "\n",
    "display(data_test.shape)"
   ]
  },
  {
   "cell_type": "code",
   "execution_count": 6,
   "metadata": {},
   "outputs": [
    {
     "data": {
      "text/plain": [
       "(774354, 17)"
      ]
     },
     "metadata": {},
     "output_type": "display_data"
    },
    {
     "data": {
      "text/plain": [
       "(41980, 19)"
      ]
     },
     "metadata": {},
     "output_type": "display_data"
    },
    {
     "data": {
      "text/plain": [
       "(3840312, 23)"
      ]
     },
     "metadata": {},
     "output_type": "display_data"
    },
    {
     "data": {
      "text/plain": [
       "(7400, 23)"
      ]
     },
     "metadata": {},
     "output_type": "display_data"
    },
    {
     "data": {
      "text/plain": [
       "(13605401, 8)"
      ]
     },
     "metadata": {},
     "output_type": "display_data"
    },
    {
     "data": {
      "text/plain": [
       "(15646, 8)"
      ]
     },
     "metadata": {},
     "output_type": "display_data"
    },
    {
     "data": {
      "text/plain": [
       "(10001358, 8)"
      ]
     },
     "metadata": {},
     "output_type": "display_data"
    },
    {
     "data": {
      "text/plain": [
       "(7846, 8)"
      ]
     },
     "metadata": {},
     "output_type": "display_data"
    },
    {
     "data": {
      "text/plain": [
       "(1670214, 37)"
      ]
     },
     "metadata": {},
     "output_type": "display_data"
    },
    {
     "data": {
      "text/plain": [
       "(1542, 37)"
      ]
     },
     "metadata": {},
     "output_type": "display_data"
    }
   ],
   "source": [
    "display(data_bureau.shape)\n",
    "data_bureau=data_bureau.loc[(data_bureau['SK_ID_CURR'].isin(data_train['SK_ID_CURR'])) | \n",
    "                                    (data_bureau['SK_ID_CURR'].isin(data_test['SK_ID_CURR']))]\n",
    "\n",
    "data_bureau=data_bureau.merge(data_bureau_balance,\n",
    "                 on='SK_ID_BUREAU',\n",
    "                 how='inner')\n",
    "\n",
    "display(data_bureau.shape)\n",
    "\n",
    "display(data_credit_card_balance.shape)\n",
    "\n",
    "data_credit_card_balance=data_credit_card_balance.loc[(data_credit_card_balance['SK_ID_CURR'].isin(data_train['SK_ID_CURR'])) | \n",
    "                                    (data_credit_card_balance['SK_ID_CURR'].isin(data_test['SK_ID_CURR']))]\n",
    "\n",
    "display(data_credit_card_balance.shape)\n",
    "\n",
    "\n",
    "display(data_installments_payments.shape)\n",
    "\n",
    "data_installments_payments=data_installments_payments.loc[(data_installments_payments['SK_ID_CURR'].isin(data_train['SK_ID_CURR'])) | \n",
    "                                    (data_installments_payments['SK_ID_CURR'].isin(data_test['SK_ID_CURR']))]\n",
    "\n",
    "display(data_installments_payments.shape)\n",
    "                          \n",
    "\n",
    "\n",
    "display(data_POS_CASH_balance.shape)\n",
    "\n",
    "data_POS_CASH_balance=data_POS_CASH_balance.loc[(data_POS_CASH_balance['SK_ID_CURR'].isin(data_train['SK_ID_CURR'])) | \n",
    "                                    (data_POS_CASH_balance['SK_ID_CURR'].isin(data_test['SK_ID_CURR']))]\n",
    "\n",
    "display(data_POS_CASH_balance.shape)\n",
    "\n",
    "\n",
    "display(data_previous_application.shape)\n",
    "\n",
    "data_previous_application=data_previous_application.loc[(data_previous_application['SK_ID_CURR'].isin(data_train['SK_ID_CURR'])) | \n",
    "                                    (data_previous_application['SK_ID_CURR'].isin(data_test['SK_ID_CURR']))]\n",
    "\n",
    "display(data_previous_application.shape)\n",
    "\n",
    "\n"
   ]
  },
  {
   "cell_type": "code",
   "execution_count": 7,
   "metadata": {},
   "outputs": [],
   "source": [
    "data_train=data_train.merge(data_bureau,\n",
    "                 on='SK_ID_CURR',\n",
    "                 how='inner')"
   ]
  },
  {
   "cell_type": "code",
   "execution_count": 8,
   "metadata": {},
   "outputs": [],
   "source": [
    "data_train=data_train.merge(data_credit_card_balance,\n",
    "                 on='SK_ID_CURR',\n",
    "                 how='inner')"
   ]
  },
  {
   "cell_type": "code",
   "execution_count": 9,
   "metadata": {},
   "outputs": [],
   "source": [
    "#data_train=data_train.merge(data_installments_payments,\n",
    "#                 on='SK_ID_CURR',\n",
    "#                 how='inner')"
   ]
  },
  {
   "cell_type": "code",
   "execution_count": 10,
   "metadata": {},
   "outputs": [],
   "source": [
    "#data_train=data_train.merge(data_POS_CASH_balance,\n",
    "#                 on='SK_ID_CURR',\n",
    "#                 how='inner')"
   ]
  },
  {
   "cell_type": "code",
   "execution_count": 11,
   "metadata": {},
   "outputs": [],
   "source": [
    "#data_train=data_train.merge(data_previous_application,\n",
    "#                 on='SK_ID_CURR',\n",
    "#                 how='inner')"
   ]
  },
  {
   "cell_type": "code",
   "execution_count": 12,
   "metadata": {},
   "outputs": [
    {
     "data": {
      "text/plain": [
       "(731793, 162)"
      ]
     },
     "metadata": {},
     "output_type": "display_data"
    }
   ],
   "source": [
    "display(data_train.shape)"
   ]
  },
  {
   "cell_type": "code",
   "execution_count": 13,
   "metadata": {},
   "outputs": [],
   "source": [
    "data_test=data_test.merge(data_bureau,\n",
    "                 on='SK_ID_CURR',\n",
    "                 how='inner')"
   ]
  },
  {
   "cell_type": "code",
   "execution_count": 14,
   "metadata": {},
   "outputs": [],
   "source": [
    "data_test=data_test.merge(data_credit_card_balance,\n",
    "                 on='SK_ID_CURR',\n",
    "                 how='inner')"
   ]
  },
  {
   "cell_type": "code",
   "execution_count": 15,
   "metadata": {},
   "outputs": [],
   "source": [
    "#data_test=data_test.merge(data_installments_payments,\n",
    "#                 on='SK_ID_CURR',\n",
    "#                 how='inner')"
   ]
  },
  {
   "cell_type": "code",
   "execution_count": 16,
   "metadata": {},
   "outputs": [],
   "source": [
    "#data_test=data_test.merge(data_POS_CASH_balance,\n",
    "#                 on='SK_ID_CURR',\n",
    "#                 how='inner')"
   ]
  },
  {
   "cell_type": "code",
   "execution_count": 17,
   "metadata": {},
   "outputs": [
    {
     "data": {
      "text/plain": [
       "(1019701, 161)"
      ]
     },
     "metadata": {},
     "output_type": "display_data"
    }
   ],
   "source": [
    "display(data_test.shape)"
   ]
  },
  {
   "cell_type": "code",
   "execution_count": 18,
   "metadata": {},
   "outputs": [],
   "source": [
    "data_train=data_train.fillna(0)\n",
    "data_test=data_test.fillna(0)"
   ]
  },
  {
   "cell_type": "code",
   "execution_count": 19,
   "metadata": {},
   "outputs": [
    {
     "data": {
      "text/html": [
       "<div>\n",
       "<style scoped>\n",
       "    .dataframe tbody tr th:only-of-type {\n",
       "        vertical-align: middle;\n",
       "    }\n",
       "\n",
       "    .dataframe tbody tr th {\n",
       "        vertical-align: top;\n",
       "    }\n",
       "\n",
       "    .dataframe thead th {\n",
       "        text-align: right;\n",
       "    }\n",
       "</style>\n",
       "<table border=\"1\" class=\"dataframe\">\n",
       "  <thead>\n",
       "    <tr style=\"text-align: right;\">\n",
       "      <th></th>\n",
       "      <th>SK_ID_CURR</th>\n",
       "      <th>NAME_CONTRACT_TYPE</th>\n",
       "      <th>CODE_GENDER</th>\n",
       "      <th>FLAG_OWN_CAR</th>\n",
       "      <th>FLAG_OWN_REALTY</th>\n",
       "      <th>CNT_CHILDREN</th>\n",
       "      <th>AMT_INCOME_TOTAL</th>\n",
       "      <th>AMT_CREDIT</th>\n",
       "      <th>AMT_ANNUITY_x</th>\n",
       "      <th>AMT_GOODS_PRICE</th>\n",
       "      <th>...</th>\n",
       "      <th>AMT_RECIVABLE</th>\n",
       "      <th>AMT_TOTAL_RECEIVABLE</th>\n",
       "      <th>CNT_DRAWINGS_ATM_CURRENT</th>\n",
       "      <th>CNT_DRAWINGS_CURRENT</th>\n",
       "      <th>CNT_DRAWINGS_OTHER_CURRENT</th>\n",
       "      <th>CNT_DRAWINGS_POS_CURRENT</th>\n",
       "      <th>CNT_INSTALMENT_MATURE_CUM</th>\n",
       "      <th>NAME_CONTRACT_STATUS</th>\n",
       "      <th>SK_DPD</th>\n",
       "      <th>SK_DPD_DEF</th>\n",
       "    </tr>\n",
       "  </thead>\n",
       "  <tbody>\n",
       "    <tr>\n",
       "      <th>0</th>\n",
       "      <td>100043</td>\n",
       "      <td>Cash loans</td>\n",
       "      <td>F</td>\n",
       "      <td>N</td>\n",
       "      <td>Y</td>\n",
       "      <td>2</td>\n",
       "      <td>198000.0</td>\n",
       "      <td>641173.5</td>\n",
       "      <td>23157.0</td>\n",
       "      <td>553500.0</td>\n",
       "      <td>...</td>\n",
       "      <td>0.0</td>\n",
       "      <td>0.0</td>\n",
       "      <td>0.0</td>\n",
       "      <td>0</td>\n",
       "      <td>0.0</td>\n",
       "      <td>0.0</td>\n",
       "      <td>20.0</td>\n",
       "      <td>Active</td>\n",
       "      <td>0</td>\n",
       "      <td>0</td>\n",
       "    </tr>\n",
       "  </tbody>\n",
       "</table>\n",
       "<p>1 rows × 161 columns</p>\n",
       "</div>"
      ],
      "text/plain": [
       "   SK_ID_CURR NAME_CONTRACT_TYPE CODE_GENDER FLAG_OWN_CAR FLAG_OWN_REALTY  \\\n",
       "0      100043         Cash loans           F            N               Y   \n",
       "\n",
       "   CNT_CHILDREN  AMT_INCOME_TOTAL  AMT_CREDIT  AMT_ANNUITY_x  AMT_GOODS_PRICE  \\\n",
       "0             2          198000.0    641173.5        23157.0         553500.0   \n",
       "\n",
       "      ...     AMT_RECIVABLE AMT_TOTAL_RECEIVABLE CNT_DRAWINGS_ATM_CURRENT  \\\n",
       "0     ...               0.0                  0.0                      0.0   \n",
       "\n",
       "  CNT_DRAWINGS_CURRENT CNT_DRAWINGS_OTHER_CURRENT  CNT_DRAWINGS_POS_CURRENT  \\\n",
       "0                    0                        0.0                       0.0   \n",
       "\n",
       "   CNT_INSTALMENT_MATURE_CUM  NAME_CONTRACT_STATUS  SK_DPD  SK_DPD_DEF  \n",
       "0                       20.0                Active       0           0  \n",
       "\n",
       "[1 rows x 161 columns]"
      ]
     },
     "execution_count": 19,
     "metadata": {},
     "output_type": "execute_result"
    }
   ],
   "source": [
    "application_labels_train = data_train['TARGET']\n",
    "features_without_labels = data_train.drop('TARGET', axis = 1)\n",
    "features_without_labels.head(1)"
   ]
  },
  {
   "cell_type": "code",
   "execution_count": 20,
   "metadata": {},
   "outputs": [],
   "source": [
    "#Transforming Skewed Continuous Features\n",
    "#Normalizing Numerical Features"
   ]
  },
  {
   "cell_type": "code",
   "execution_count": 21,
   "metadata": {},
   "outputs": [
    {
     "name": "stdout",
     "output_type": "stream",
     "text": [
      "total features after one-hot encoding. 264\n"
     ]
    }
   ],
   "source": [
    "# One-hot encoding of data using pandas.get_dummies()\n",
    "#features_final = pd.get_dummies(data=data)\n",
    "features_final = pd.get_dummies(pd.concat([features_without_labels,data_test],keys=[0,1]))\n",
    "# Print the number of features after one-hot encoding\n",
    "encoded = list(features_final.columns)\n",
    "#print \"{} total features after one-hot encoding.\".format(len(encoded))\n",
    "print('total features after one-hot encoding. %d' % len(encoded))\n",
    "# Uncomment the following line to see the encoded feature names\n",
    "#print(encoded)\n",
    "#features_final.xs(0).head(5)\n",
    "#features_final.xs(1).head(5)\n",
    "\n",
    "features_final_train=features_final.xs(0)\n",
    "features_final_test=features_final.xs(1)\n",
    "\n",
    "#Remove NAN values\n",
    "features_final_train=features_final_train.fillna(0)\n",
    "features_final_test=features_final_test.fillna(0)\n",
    "#features_final_test.head(5)"
   ]
  },
  {
   "cell_type": "code",
   "execution_count": 22,
   "metadata": {},
   "outputs": [
    {
     "name": "stdout",
     "output_type": "stream",
     "text": [
      "Training set has 585434 samples.\n",
      "Testing set has 146359 samples.\n"
     ]
    }
   ],
   "source": [
    "# Import train_test_split\n",
    "from sklearn.model_selection  import train_test_split\n",
    "\n",
    "# Split the 'features' and 'income' data into training and testing sets\n",
    "X_train, X_test, y_train, y_test = train_test_split(features_final_train, \n",
    "                                                    application_labels_train, \n",
    "                                                    test_size = 0.2, \n",
    "                                                    random_state = 0)\n",
    "\n",
    "# Show the results of the split\n",
    "print(\"Training set has %d samples.\" % X_train.shape[0])\n",
    "print(\"Testing set has %d samples.\" % X_test.shape[0])\n",
    "#X_train"
   ]
  },
  {
   "cell_type": "code",
   "execution_count": 23,
   "metadata": {},
   "outputs": [
    {
     "name": "stdout",
     "output_type": "stream",
     "text": [
      "0.07995157100436873\n",
      "0.09798102944722811\n"
     ]
    }
   ],
   "source": [
    "# TODO: Calculate Naive Model accuracy, precision and recall\n",
    "accuracy = np.sum(application_labels_train) / len(application_labels_train)\n",
    "\n",
    "recall = 1\n",
    "precision = np.sum(application_labels_train) / (np.sum(application_labels_train) + (len(application_labels_train)-np.sum(application_labels_train)))\n",
    "\n",
    "# TODO: Calculate F-score using the formula above for beta = 0.5 and correct values for precision and recall.\n",
    "fscore = ((1 + np.square(.5))*precision*recall) /  ((np.square(.5)*precision)+recall)\n",
    "\n",
    "# Print the results \n",
    "print (accuracy)\n",
    "print (fscore)"
   ]
  },
  {
   "cell_type": "code",
   "execution_count": null,
   "metadata": {},
   "outputs": [],
   "source": [
    "from sklearn.linear_model import LogisticRegression\n",
    "from sklearn.metrics import accuracy_score,fbeta_score\n",
    "\n",
    "import sklearn.decomposition as skdc ##Includes Principal Component Analysis, a method of dimensionality reduction\n",
    "import sklearn.pipeline as skpl\n",
    "from sklearn.model_selection import GridSearchCV\n",
    "\n",
    "pca = skdc.PCA() #empty model space\n",
    "#pcafit = pca.fit_transform(X_train, y_train)\n",
    "\n",
    "#pca = skdc.PCA(n_components = 10) #only include first 10 components\n",
    "logreg = LogisticRegression()#empty model space\n",
    "pca_logistic_regressor_pipe = skpl.Pipeline([('pca', pca), ('logistic', logreg)]) \n",
    "\n",
    "n_components = [10, 20, 30]\n",
    "Cs = np.logspace(-4, 4, 3)\n",
    "\n",
    "# Parameters of pipelines can be set using ‘__’ separated parameter names:\n",
    "grid_obj = GridSearchCV(pca_logistic_regressor_pipe,\n",
    "                         dict(pca__n_components=n_components,logistic__C=Cs))\n",
    "\n",
    "grid_fit = grid_obj.fit(X_train,y_train)\n",
    "\n",
    "# Get the estimator\n",
    "best_clf = grid_fit.best_estimator_\n",
    "\n",
    "#pca_logistic_regressor_pipe.fit(X_train, y_train)\n",
    "\n",
    "#logistic_regressor = LogisticRegression()\n",
    "\n",
    "#logistic_regressor.fit(X_train, y_train)\n",
    "\n",
    "\n",
    "start = time() # Get start time\n",
    "predictions_test = best_clf.predict(X_test) #None\n",
    "predictions_train = best_clf.predict(X_train)\n",
    "end = time() # Get end time\n",
    "\n",
    "np.savetxt('predictions_test.txt', predictions_test)\n",
    "np.savetxt('predictions_train.txt', predictions_train)\n",
    "\n",
    "results = {}\n",
    "# TODO: Calculate the total prediction time\n",
    "results['pred_time'] = end - start\n",
    "\n",
    "# TODO: Compute accuracy on the first 300 training samples which is y_train[:300]\n",
    "results['acc_train'] = accuracy_score(y_train,predictions_train)\n",
    "\n",
    "# TODO: Compute accuracy on test set using accuracy_score()\n",
    "results['acc_test'] = accuracy_score(y_test,predictions_test)\n",
    "\n",
    "# TODO: Compute F-score on the the first 300 training samples using fbeta_score()\n",
    "results['f_train'] = fbeta_score(y_train,predictions_train,beta=0.5)\n",
    "\n",
    "# TODO: Compute F-score on the test set which is y_test\n",
    "results['f_test'] = fbeta_score(y_test,predictions_test,beta=0.5)\n",
    "\n",
    "# Success\n",
    "#print \"{} trained on {} samples.\".format(learner.__class__.__name__, sample_size)\n",
    "\n",
    "print(results['acc_train'])\n",
    "print(results['acc_test'])\n",
    "print(results['f_train'])\n",
    "print(results['f_test'])"
   ]
  },
  {
   "cell_type": "code",
   "execution_count": null,
   "metadata": {},
   "outputs": [],
   "source": [
    "predictions_test_actual = best_clf.predict(features_final_test)\n",
    "np.savetxt('file_Ravi.txt', predictions_test_actual.round(1))"
   ]
  },
  {
   "cell_type": "code",
   "execution_count": null,
   "metadata": {},
   "outputs": [],
   "source": [
    "np.savetxt('y_train.txt', y_train)"
   ]
  },
  {
   "cell_type": "code",
   "execution_count": null,
   "metadata": {},
   "outputs": [],
   "source": [
    "predictions_test_prob_actual = best_clf.predict_log_proba(features_final_test)\n",
    "np.savetxt('file_Ravi_prob.txt', y_train)"
   ]
  },
  {
   "cell_type": "code",
   "execution_count": null,
   "metadata": {},
   "outputs": [],
   "source": []
  }
 ],
 "metadata": {
  "kernelspec": {
   "display_name": "Python 3",
   "language": "python",
   "name": "python3"
  },
  "language_info": {
   "codemirror_mode": {
    "name": "ipython",
    "version": 3
   },
   "file_extension": ".py",
   "mimetype": "text/x-python",
   "name": "python",
   "nbconvert_exporter": "python",
   "pygments_lexer": "ipython3",
   "version": "3.5.5"
  }
 },
 "nbformat": 4,
 "nbformat_minor": 2
}
