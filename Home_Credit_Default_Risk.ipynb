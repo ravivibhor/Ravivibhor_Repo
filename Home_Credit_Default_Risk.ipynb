{
 "cells": [
  {
   "cell_type": "code",
   "execution_count": 2,
   "metadata": {},
   "outputs": [],
   "source": [
    "# Import libraries necessary for this project\n",
    "import numpy as np\n",
    "import pandas as pd\n",
    "from time import time\n",
    "from IPython.display import display # Allows the use of display() for DataFrames\n",
    "\n",
    "\n",
    "# Load the Home Credit Default Risk dataset\n",
    "data_train = pd.read_csv(\"Udacity_Projects/Home_Credit_Default_Risk/application_train.csv\",low_memory=False)\n",
    "data_bureau = pd.read_csv(\"Udacity_Projects/Home_Credit_Default_Risk/bureau.csv\",low_memory=False)\n",
    "data_bureau_balance = pd.read_csv(\"Udacity_Projects/Home_Credit_Default_Risk/bureau_balance.csv\",low_memory=False)\n",
    "data_credit_card_balance = pd.read_csv(\"Udacity_Projects/Home_Credit_Default_Risk/credit_card_balance.csv\",low_memory=False)\n",
    "data_installments_payments= pd.read_csv(\"Udacity_Projects/Home_Credit_Default_Risk/installments_payments.csv\",low_memory=False)\n",
    "data_POS_CASH_balance= pd.read_csv(\"Udacity_Projects/Home_Credit_Default_Risk/POS_CASH_balance.csv\",low_memory=False)\n",
    "data_previous_application= pd.read_csv(\"Udacity_Projects/Home_Credit_Default_Risk/previous_application.csv\",low_memory=False)\n",
    "data_test = pd.read_csv(\"Udacity_Projects/Home_Credit_Default_Risk/application_test.csv\",low_memory=False)\n"
   ]
  },
  {
   "cell_type": "code",
   "execution_count": 3,
   "metadata": {},
   "outputs": [
    {
     "name": "stdout",
     "output_type": "stream",
     "text": [
      "Below is statistics of primary key data in data_bureau which is available as foreign key in data_bureau_balance\n"
     ]
    },
    {
     "data": {
      "text/plain": [
       "False    942074\n",
       "True     774354\n",
       "Name: SK_ID_BUREAU, dtype: int64"
      ]
     },
     "metadata": {},
     "output_type": "display_data"
    },
    {
     "name": "stdout",
     "output_type": "stream",
     "text": [
      "Below is statistics of primary key data in data_train which is available as foreign key in data_bureau\n"
     ]
    },
    {
     "data": {
      "text/plain": [
       "True     263491\n",
       "False     44020\n",
       "Name: SK_ID_CURR, dtype: int64"
      ]
     },
     "metadata": {},
     "output_type": "display_data"
    },
    {
     "name": "stdout",
     "output_type": "stream",
     "text": [
      "Below is statistics of primary key data in data_train which is available as foreign key in data_credit_card_balance\n"
     ]
    },
    {
     "data": {
      "text/plain": [
       "False    220606\n",
       "True      86905\n",
       "Name: SK_ID_CURR, dtype: int64"
      ]
     },
     "metadata": {},
     "output_type": "display_data"
    },
    {
     "name": "stdout",
     "output_type": "stream",
     "text": [
      "Below is statistics of primary key data in data_train which is available as foreign key in data_installments_payments\n"
     ]
    },
    {
     "data": {
      "text/plain": [
       "True     291643\n",
       "False     15868\n",
       "Name: SK_ID_CURR, dtype: int64"
      ]
     },
     "metadata": {},
     "output_type": "display_data"
    },
    {
     "name": "stdout",
     "output_type": "stream",
     "text": [
      "Below is statistics of primary key data in data_train which is available as foreign key in data_POS_CASH_balance\n"
     ]
    },
    {
     "data": {
      "text/plain": [
       "True     289444\n",
       "False     18067\n",
       "Name: SK_ID_CURR, dtype: int64"
      ]
     },
     "metadata": {},
     "output_type": "display_data"
    },
    {
     "name": "stdout",
     "output_type": "stream",
     "text": [
      "Below is statistics of primary key data in data_train which is available as foreign key in data_previous_application\n"
     ]
    },
    {
     "data": {
      "text/plain": [
       "True     291057\n",
       "False     16454\n",
       "Name: SK_ID_CURR, dtype: int64"
      ]
     },
     "metadata": {},
     "output_type": "display_data"
    }
   ],
   "source": [
    "print('Below is statistics of primary key data in data_bureau which is available as foreign key in data_bureau_balance')\n",
    "display(data_bureau['SK_ID_BUREAU'].isin(data_bureau_balance['SK_ID_BUREAU']).value_counts())\n",
    "\n",
    "print('Below is statistics of primary key data in data_train which is available as foreign key in data_bureau')\n",
    "display(data_train['SK_ID_CURR'].isin(data_bureau['SK_ID_CURR']).value_counts())\n",
    "\n",
    "print('Below is statistics of primary key data in data_train which is available as foreign key in data_credit_card_balance')\n",
    "display(data_train['SK_ID_CURR'].isin(data_credit_card_balance['SK_ID_CURR']).value_counts())\n",
    "\n",
    "print('Below is statistics of primary key data in data_train which is available as foreign key in data_installments_payments')\n",
    "display(data_train['SK_ID_CURR'].isin(data_installments_payments['SK_ID_CURR']).value_counts())\n",
    "\n",
    "print('Below is statistics of primary key data in data_train which is available as foreign key in data_POS_CASH_balance')\n",
    "display(data_train['SK_ID_CURR'].isin(data_POS_CASH_balance['SK_ID_CURR']).value_counts())\n",
    "\n",
    "print('Below is statistics of primary key data in data_train which is available as foreign key in data_previous_application')\n",
    "display(data_train['SK_ID_CURR'].isin(data_previous_application['SK_ID_CURR']).value_counts())\n"
   ]
  },
  {
   "cell_type": "code",
   "execution_count": 4,
   "metadata": {},
   "outputs": [
    {
     "name": "stdout",
     "output_type": "stream",
     "text": [
      "Below is statistics of primary key data in data_test which is available as foreign key in data_bureau\n"
     ]
    },
    {
     "data": {
      "text/plain": [
       "True     42320\n",
       "False     6424\n",
       "Name: SK_ID_CURR, dtype: int64"
      ]
     },
     "metadata": {},
     "output_type": "display_data"
    },
    {
     "name": "stdout",
     "output_type": "stream",
     "text": [
      "Below is statistics of primary key data in data_test which is available as foreign key in data_credit_card_balance\n"
     ]
    },
    {
     "data": {
      "text/plain": [
       "False    32091\n",
       "True     16653\n",
       "Name: SK_ID_CURR, dtype: int64"
      ]
     },
     "metadata": {},
     "output_type": "display_data"
    },
    {
     "name": "stdout",
     "output_type": "stream",
     "text": [
      "Below is statistics of primary key data in data_test which is available as foreign key in data_installments_payments\n"
     ]
    },
    {
     "data": {
      "text/plain": [
       "True     47944\n",
       "False      800\n",
       "Name: SK_ID_CURR, dtype: int64"
      ]
     },
     "metadata": {},
     "output_type": "display_data"
    },
    {
     "name": "stdout",
     "output_type": "stream",
     "text": [
      "Below is statistics of primary key data in data_test which is available as foreign key in data_POS_CASH_balance\n"
     ]
    },
    {
     "data": {
      "text/plain": [
       "True     47808\n",
       "False      936\n",
       "Name: SK_ID_CURR, dtype: int64"
      ]
     },
     "metadata": {},
     "output_type": "display_data"
    },
    {
     "name": "stdout",
     "output_type": "stream",
     "text": [
      "Below is statistics of primary key data in data_test which is available as foreign key in data_previous_application\n"
     ]
    },
    {
     "data": {
      "text/plain": [
       "True     47800\n",
       "False      944\n",
       "Name: SK_ID_CURR, dtype: int64"
      ]
     },
     "metadata": {},
     "output_type": "display_data"
    }
   ],
   "source": [
    "print('Below is statistics of primary key data in data_test which is available as foreign key in data_bureau')\n",
    "display(data_test['SK_ID_CURR'].isin(data_bureau['SK_ID_CURR']).value_counts())\n",
    "\n",
    "print('Below is statistics of primary key data in data_test which is available as foreign key in data_credit_card_balance')\n",
    "display(data_test['SK_ID_CURR'].isin(data_credit_card_balance['SK_ID_CURR']).value_counts())\n",
    "\n",
    "print('Below is statistics of primary key data in data_test which is available as foreign key in data_installments_payments')\n",
    "display(data_test['SK_ID_CURR'].isin(data_installments_payments['SK_ID_CURR']).value_counts())\n",
    "\n",
    "print('Below is statistics of primary key data in data_test which is available as foreign key in data_POS_CASH_balance')\n",
    "display(data_test['SK_ID_CURR'].isin(data_POS_CASH_balance['SK_ID_CURR']).value_counts())\n",
    "\n",
    "print('Below is statistics of primary key data in data_test which is available as foreign key in data_previous_application')\n",
    "display(data_test['SK_ID_CURR'].isin(data_previous_application['SK_ID_CURR']).value_counts())"
   ]
  },
  {
   "cell_type": "code",
   "execution_count": 5,
   "metadata": {},
   "outputs": [
    {
     "name": "stdout",
     "output_type": "stream",
     "text": [
      "Below is Shape of data_bureau before filtering\n"
     ]
    },
    {
     "data": {
      "text/plain": [
       "(1716428, 17)"
      ]
     },
     "metadata": {},
     "output_type": "display_data"
    },
    {
     "name": "stdout",
     "output_type": "stream",
     "text": [
      "Below is Shape of data_bureau after filtering to retain only that data where SK_ID_BUREAU is present in data_bureau_balance\n"
     ]
    },
    {
     "data": {
      "text/plain": [
       "(774354, 17)"
      ]
     },
     "metadata": {},
     "output_type": "display_data"
    },
    {
     "name": "stdout",
     "output_type": "stream",
     "text": [
      "Below is Shape of data_train before filtering\n"
     ]
    },
    {
     "data": {
      "text/plain": [
       "(307511, 122)"
      ]
     },
     "metadata": {},
     "output_type": "display_data"
    },
    {
     "name": "stdout",
     "output_type": "stream",
     "text": [
      "Below is final Shape of data_train after filtering to retain only that data where pk SK_ID_CURR is available as foreign key in all other tables and this will be used as final training dataset\n"
     ]
    },
    {
     "data": {
      "text/plain": [
       "(100, 122)"
      ]
     },
     "metadata": {},
     "output_type": "display_data"
    }
   ],
   "source": [
    "\n",
    "print('Below is Shape of data_bureau before filtering')\n",
    "display(data_bureau.shape)\n",
    "\n",
    "#filter data bureau with only data where SK_ID_BUREAU is present in data_bureau_balance\n",
    "data_bureau=data_bureau.loc[(data_bureau['SK_ID_BUREAU'].isin(data_bureau_balance['SK_ID_BUREAU']))]\n",
    "\n",
    "print('Below is Shape of data_bureau after filtering to retain only that data where SK_ID_BUREAU is present in data_bureau_balance')\n",
    "display(data_bureau.shape)\n",
    "\n",
    "\n",
    "print('Below is Shape of data_train before filtering')\n",
    "display(data_train.shape)\n",
    "\n",
    "# To reduce memory requirements populate data in application_train.csv only with those \n",
    "# primary key SK_ID_CURR which are available as foreign key in all other tables\n",
    "\n",
    "data_train=data_train.loc[(data_train['SK_ID_CURR'].isin(data_bureau['SK_ID_CURR'])) \n",
    "                          & (data_train['SK_ID_CURR'].isin(data_credit_card_balance['SK_ID_CURR']))\n",
    "                          & (data_train['SK_ID_CURR'].isin(data_installments_payments['SK_ID_CURR']))\n",
    "                          & (data_train['SK_ID_CURR'].isin(data_POS_CASH_balance['SK_ID_CURR']))\n",
    "                          & (data_train['SK_ID_CURR'].isin(data_previous_application['SK_ID_CURR']))\n",
    "                         ] \n",
    "\n",
    "\n",
    "# Take only top 5k rows to resolve memory issues\n",
    "data_train=data_train.head(100)\n",
    "\n",
    "print('Below is final Shape of data_train after filtering to retain only that data where pk SK_ID_CURR is available as foreign key in all other tables and this will be used as final training dataset')\n",
    "display(data_train.shape)\n",
    "\n",
    "data_train.to_csv(\"Udacity_Projects/Home_Credit_Default_Risk/application_train_reduced_merged.csv\")\n",
    "\n",
    "\n"
   ]
  },
  {
   "cell_type": "code",
   "execution_count": 6,
   "metadata": {},
   "outputs": [
    {
     "name": "stdout",
     "output_type": "stream",
     "text": [
      "Below is Shape of data_test before filtering\n"
     ]
    },
    {
     "data": {
      "text/plain": [
       "(48744, 121)"
      ]
     },
     "metadata": {},
     "output_type": "display_data"
    },
    {
     "name": "stdout",
     "output_type": "stream",
     "text": [
      "Below is final Shape of data_test after filtering to retain only that data where pk SK_ID_CURR is available as foreign key in all other tables and this will be used as final test dataset\n"
     ]
    },
    {
     "data": {
      "text/plain": [
       "(500, 121)"
      ]
     },
     "metadata": {},
     "output_type": "display_data"
    }
   ],
   "source": [
    "print('Below is Shape of data_test before filtering')\n",
    "display(data_test.shape)\n",
    "\n",
    "# To reduce memory requirements populate data in application_train.csv only with those \n",
    "# primary key SK_ID_CURR which are available as foreign key in all other tables\n",
    "\n",
    "data_test=data_test.loc[(data_test['SK_ID_CURR'].isin(data_bureau['SK_ID_CURR'])) \n",
    "                          & (data_test['SK_ID_CURR'].isin(data_credit_card_balance['SK_ID_CURR']))\n",
    "                          & (data_test['SK_ID_CURR'].isin(data_installments_payments['SK_ID_CURR']))\n",
    "                          & (data_test['SK_ID_CURR'].isin(data_POS_CASH_balance['SK_ID_CURR']))\n",
    "                          & (data_test['SK_ID_CURR'].isin(data_previous_application['SK_ID_CURR']))\n",
    "                         ] \n",
    "\n",
    "data_test=data_test.head(500)\n",
    "data_test=data_test.fillna(0)\n",
    "\n",
    "print('Below is final Shape of data_test after filtering to retain only that data where pk SK_ID_CURR is available as foreign key in all other tables and this will be used as final test dataset')\n",
    "\n",
    "display(data_test.shape)"
   ]
  },
  {
   "cell_type": "code",
   "execution_count": 7,
   "metadata": {},
   "outputs": [
    {
     "name": "stdout",
     "output_type": "stream",
     "text": [
      "Below is Shape of data_bureau before filtering\n"
     ]
    },
    {
     "data": {
      "text/plain": [
       "(774354, 17)"
      ]
     },
     "metadata": {},
     "output_type": "display_data"
    },
    {
     "name": "stdout",
     "output_type": "stream",
     "text": [
      "Below is Shape of data_bureau after merging with data_bureau_balance on key SK_ID_BUREAU\n"
     ]
    },
    {
     "data": {
      "text/plain": [
       "(136830, 19)"
      ]
     },
     "metadata": {},
     "output_type": "display_data"
    },
    {
     "name": "stdout",
     "output_type": "stream",
     "text": [
      "Below is Shape of data_credit_card_balance before filtering\n"
     ]
    },
    {
     "data": {
      "text/plain": [
       "(3840312, 23)"
      ]
     },
     "metadata": {},
     "output_type": "display_data"
    },
    {
     "name": "stdout",
     "output_type": "stream",
     "text": [
      "Below is Shape of data_credit_card_balance after filtering. Only those records are left whose primary key data is available in data_train or data_test\n"
     ]
    },
    {
     "data": {
      "text/plain": [
       "(21757, 23)"
      ]
     },
     "metadata": {},
     "output_type": "display_data"
    },
    {
     "name": "stdout",
     "output_type": "stream",
     "text": [
      "Below is Shape of data_installments_payments before filtering\n"
     ]
    },
    {
     "data": {
      "text/plain": [
       "(13605401, 8)"
      ]
     },
     "metadata": {},
     "output_type": "display_data"
    },
    {
     "name": "stdout",
     "output_type": "stream",
     "text": [
      "Below is Shape of data_installments_payments after filtering. Only those records are left whose primary key data is available in data_train or data_test\n"
     ]
    },
    {
     "data": {
      "text/plain": [
       "(43516, 8)"
      ]
     },
     "metadata": {},
     "output_type": "display_data"
    },
    {
     "name": "stdout",
     "output_type": "stream",
     "text": [
      "Below is Shape of data_POS_CASH_balance before filtering\n"
     ]
    },
    {
     "data": {
      "text/plain": [
       "(10001358, 8)"
      ]
     },
     "metadata": {},
     "output_type": "display_data"
    },
    {
     "name": "stdout",
     "output_type": "stream",
     "text": [
      "Below is Shape of data_POS_CASH_balance after filtering. Only those records are left whose primary key data is available in data_train or data_test\n"
     ]
    },
    {
     "data": {
      "text/plain": [
       "(22702, 8)"
      ]
     },
     "metadata": {},
     "output_type": "display_data"
    },
    {
     "name": "stdout",
     "output_type": "stream",
     "text": [
      "Below is Shape of data_previous_application before filtering\n"
     ]
    },
    {
     "data": {
      "text/plain": [
       "(1670214, 37)"
      ]
     },
     "metadata": {},
     "output_type": "display_data"
    },
    {
     "name": "stdout",
     "output_type": "stream",
     "text": [
      "Below is Shape of data_previous_application after filtering. Only those records are left whose primary key data is available in data_train or data_test\n"
     ]
    },
    {
     "data": {
      "text/plain": [
       "(4348, 37)"
      ]
     },
     "metadata": {},
     "output_type": "display_data"
    }
   ],
   "source": [
    "print('Below is Shape of data_bureau before filtering')\n",
    "display(data_bureau.shape)\n",
    "\n",
    "\n",
    "data_bureau=data_bureau.loc[(data_bureau['SK_ID_CURR'].isin(data_train['SK_ID_CURR'])) | \n",
    "                                    (data_bureau['SK_ID_CURR'].isin(data_test['SK_ID_CURR']))]\n",
    "\n",
    "\n",
    "data_bureau=data_bureau.merge(data_bureau_balance,\n",
    "                 on='SK_ID_BUREAU',\n",
    "                 how='inner')\n",
    "\n",
    "print('Below is Shape of data_bureau after merging with data_bureau_balance on key SK_ID_BUREAU')\n",
    "\n",
    "display(data_bureau.shape)\n",
    "\n",
    "print('Below is Shape of data_credit_card_balance before filtering')\n",
    "display(data_credit_card_balance.shape)\n",
    "\n",
    "data_credit_card_balance=data_credit_card_balance.loc[(data_credit_card_balance['SK_ID_CURR'].isin(data_train['SK_ID_CURR'])) | \n",
    "                                    (data_credit_card_balance['SK_ID_CURR'].isin(data_test['SK_ID_CURR']))]\n",
    "\n",
    "print('Below is Shape of data_credit_card_balance after filtering. Only those records are left whose primary key data is available in data_train or data_test')\n",
    "display(data_credit_card_balance.shape)\n",
    "\n",
    "\n",
    "print('Below is Shape of data_installments_payments before filtering')\n",
    "display(data_installments_payments.shape)\n",
    "\n",
    "data_installments_payments=data_installments_payments.loc[(data_installments_payments['SK_ID_CURR'].isin(data_train['SK_ID_CURR'])) | \n",
    "                                    (data_installments_payments['SK_ID_CURR'].isin(data_test['SK_ID_CURR']))]\n",
    "\n",
    "print('Below is Shape of data_installments_payments after filtering. Only those records are left whose primary key data is available in data_train or data_test')\n",
    "display(data_installments_payments.shape)\n",
    "                          \n",
    "\n",
    "print('Below is Shape of data_POS_CASH_balance before filtering')\n",
    "display(data_POS_CASH_balance.shape)\n",
    "\n",
    "data_POS_CASH_balance=data_POS_CASH_balance.loc[(data_POS_CASH_balance['SK_ID_CURR'].isin(data_train['SK_ID_CURR'])) | \n",
    "                                    (data_POS_CASH_balance['SK_ID_CURR'].isin(data_test['SK_ID_CURR']))]\n",
    "\n",
    "print('Below is Shape of data_POS_CASH_balance after filtering. Only those records are left whose primary key data is available in data_train or data_test')\n",
    "\n",
    "display(data_POS_CASH_balance.shape)\n",
    "\n",
    "\n",
    "print('Below is Shape of data_previous_application before filtering')\n",
    "display(data_previous_application.shape)\n",
    "\n",
    "data_previous_application=data_previous_application.loc[(data_previous_application['SK_ID_CURR'].isin(data_train['SK_ID_CURR'])) | \n",
    "                                    (data_previous_application['SK_ID_CURR'].isin(data_test['SK_ID_CURR']))]\n",
    "\n",
    "print('Below is Shape of data_previous_application after filtering. Only those records are left whose primary key data is available in data_train or data_test')\n",
    "\n",
    "display(data_previous_application.shape)\n",
    "\n",
    "\n"
   ]
  },
  {
   "cell_type": "code",
   "execution_count": 8,
   "metadata": {},
   "outputs": [],
   "source": [
    "# Merge data_train with data_bureau on key SK_ID_CURR. \n",
    "# data_bureau was already merged with data_bureau_balance above on key SK_ID_BUREAU\n",
    "\n",
    "data_train=data_train.merge(data_bureau,\n",
    "                 on='SK_ID_CURR',\n",
    "                 how='inner')"
   ]
  },
  {
   "cell_type": "code",
   "execution_count": 9,
   "metadata": {},
   "outputs": [],
   "source": [
    "# Merge data_train again with data_credit_card_balance on key SK_ID_CURR. \n",
    "\n",
    "data_train=data_train.merge(data_credit_card_balance,\n",
    "                 on='SK_ID_CURR',\n",
    "                 how='inner')"
   ]
  },
  {
   "cell_type": "code",
   "execution_count": 10,
   "metadata": {},
   "outputs": [],
   "source": [
    "# Merge data_train again with data_installments_payments on key SK_ID_CURR. \n",
    "# This code is commented because of out of memory issues\n",
    "\n",
    "#data_train=data_train.merge(data_installments_payments,\n",
    "#                 on='SK_ID_CURR',\n",
    "#                 how='inner')"
   ]
  },
  {
   "cell_type": "code",
   "execution_count": 11,
   "metadata": {},
   "outputs": [],
   "source": [
    "# Merge data_train again with data_POS_CASH_balance on key SK_ID_CURR. \n",
    "# This code is commented because of out of memory issues\n",
    "\n",
    "#data_train=data_train.merge(data_POS_CASH_balance,\n",
    "#                 on='SK_ID_CURR',\n",
    "#                 how='inner')"
   ]
  },
  {
   "cell_type": "code",
   "execution_count": 12,
   "metadata": {},
   "outputs": [],
   "source": [
    "# Merge data_train again with data_previous_application on key SK_ID_CURR. \n",
    "# This code is commented because of out of memory issues\n",
    "\n",
    "#data_train=data_train.merge(data_previous_application,\n",
    "#                 on='SK_ID_CURR',\n",
    "#                 how='inner')"
   ]
  },
  {
   "cell_type": "code",
   "execution_count": null,
   "metadata": {},
   "outputs": [],
   "source": [
    "\n",
    "print('Below is Shape of data_train after merging with other datasets on primary key SK_ID_CURR')\n",
    "display(data_train.shape)\n",
    "\n",
    "# Remove duplicate primary key data and take only top 1 row\n",
    "data_train = data_train.reset_index().drop_duplicates(subset='SK_ID_CURR', keep='first')\n",
    "\n",
    "print('Below is Shape of data_train after merging with other datasets on primary key SK_ID_CURR and removal of duplicates')\n",
    "display(data_train.shape)\n"
   ]
  },
  {
   "cell_type": "code",
   "execution_count": 13,
   "metadata": {},
   "outputs": [],
   "source": [
    "# Merge data_test with data_bureau on key SK_ID_CURR. \n",
    "# data_bureau was already merged with data_bureau_balance above on key SK_ID_BUREAU\n",
    "\n",
    "data_test=data_test.merge(data_bureau,\n",
    "                 on='SK_ID_CURR',\n",
    "                 how='inner')"
   ]
  },
  {
   "cell_type": "code",
   "execution_count": 14,
   "metadata": {},
   "outputs": [],
   "source": [
    "# Merge data_test with data_credit_card_balance on key SK_ID_CURR. \n",
    "\n",
    "data_test=data_test.merge(data_credit_card_balance,\n",
    "                 on='SK_ID_CURR',\n",
    "                 how='inner')"
   ]
  },
  {
   "cell_type": "code",
   "execution_count": 15,
   "metadata": {},
   "outputs": [],
   "source": [
    "# Merge data_test again with data_installments_payments on key SK_ID_CURR. \n",
    "# This code is commented because of out of memory issues\n",
    "\n",
    "#data_test=data_test.merge(data_installments_payments,\n",
    "#                 on='SK_ID_CURR',\n",
    "#                 how='inner')"
   ]
  },
  {
   "cell_type": "code",
   "execution_count": 16,
   "metadata": {},
   "outputs": [],
   "source": [
    "# Merge data_test again with data_POS_CASH_balance on key SK_ID_CURR. \n",
    "# This code is commented because of out of memory issues\n",
    "\n",
    "#data_test=data_test.merge(data_POS_CASH_balance,\n",
    "#                 on='SK_ID_CURR',\n",
    "#                 how='inner')"
   ]
  },
  {
   "cell_type": "code",
   "execution_count": 17,
   "metadata": {},
   "outputs": [],
   "source": [
    "# Merge data_test again with data_previous_application on key SK_ID_CURR. \n",
    "# This code is commented because of out of memory issues\n",
    "\n",
    "#data_train=data_test.merge(data_previous_application,\n",
    "#                 on='SK_ID_CURR',\n",
    "#                 how='inner')data_testdata_test"
   ]
  },
  {
   "cell_type": "code",
   "execution_count": 18,
   "metadata": {},
   "outputs": [
    {
     "name": "stdout",
     "output_type": "stream",
     "text": [
      "Below is Shape of data_test after merging with other datasets on primary key SK_ID_CURR\n"
     ]
    },
    {
     "data": {
      "text/plain": [
       "(4884076, 161)"
      ]
     },
     "metadata": {},
     "output_type": "display_data"
    },
    {
     "name": "stdout",
     "output_type": "stream",
     "text": [
      "Below is Shape of data_test after merging with other datasets on primary key SK_ID_CURR and removal of duplicates\n"
     ]
    },
    {
     "data": {
      "text/plain": [
       "(500, 162)"
      ]
     },
     "metadata": {},
     "output_type": "display_data"
    }
   ],
   "source": [
    "\n",
    "print('Below is Shape of data_test after merging with other datasets on primary key SK_ID_CURR')\n",
    "display(data_test.shape)\n",
    "\n",
    "# Remove duplicate primary key data and take only top 1 row\n",
    "data_test = data_test.reset_index().drop_duplicates(subset='SK_ID_CURR', keep='first')\n",
    "\n",
    "print('Below is Shape of data_test after merging with other datasets on primary key SK_ID_CURR and removal of duplicates')\n",
    "display(data_test.shape)"
   ]
  },
  {
   "cell_type": "code",
   "execution_count": 19,
   "metadata": {},
   "outputs": [],
   "source": [
    "# Fill na values with 0 in both data_train and data_test dataframes as a data preprossing step\n",
    "\n",
    "data_train=data_train.fillna(0)\n",
    "data_test=data_test.fillna(0)"
   ]
  },
  {
   "cell_type": "code",
   "execution_count": 20,
   "metadata": {},
   "outputs": [
    {
     "data": {
      "text/html": [
       "<div>\n",
       "<style scoped>\n",
       "    .dataframe tbody tr th:only-of-type {\n",
       "        vertical-align: middle;\n",
       "    }\n",
       "\n",
       "    .dataframe tbody tr th {\n",
       "        vertical-align: top;\n",
       "    }\n",
       "\n",
       "    .dataframe thead th {\n",
       "        text-align: right;\n",
       "    }\n",
       "</style>\n",
       "<table border=\"1\" class=\"dataframe\">\n",
       "  <thead>\n",
       "    <tr style=\"text-align: right;\">\n",
       "      <th></th>\n",
       "      <th>SK_ID_CURR</th>\n",
       "      <th>NAME_CONTRACT_TYPE</th>\n",
       "      <th>CODE_GENDER</th>\n",
       "      <th>FLAG_OWN_CAR</th>\n",
       "      <th>FLAG_OWN_REALTY</th>\n",
       "      <th>CNT_CHILDREN</th>\n",
       "      <th>AMT_INCOME_TOTAL</th>\n",
       "      <th>AMT_CREDIT</th>\n",
       "      <th>AMT_ANNUITY_x</th>\n",
       "      <th>AMT_GOODS_PRICE</th>\n",
       "      <th>...</th>\n",
       "      <th>AMT_RECIVABLE</th>\n",
       "      <th>AMT_TOTAL_RECEIVABLE</th>\n",
       "      <th>CNT_DRAWINGS_ATM_CURRENT</th>\n",
       "      <th>CNT_DRAWINGS_CURRENT</th>\n",
       "      <th>CNT_DRAWINGS_OTHER_CURRENT</th>\n",
       "      <th>CNT_DRAWINGS_POS_CURRENT</th>\n",
       "      <th>CNT_INSTALMENT_MATURE_CUM</th>\n",
       "      <th>NAME_CONTRACT_STATUS</th>\n",
       "      <th>SK_DPD</th>\n",
       "      <th>SK_DPD_DEF</th>\n",
       "    </tr>\n",
       "  </thead>\n",
       "  <tbody>\n",
       "    <tr>\n",
       "      <th>0</th>\n",
       "      <td>100043</td>\n",
       "      <td>Cash loans</td>\n",
       "      <td>F</td>\n",
       "      <td>N</td>\n",
       "      <td>Y</td>\n",
       "      <td>2</td>\n",
       "      <td>198000.0</td>\n",
       "      <td>641173.5</td>\n",
       "      <td>23157.0</td>\n",
       "      <td>553500.0</td>\n",
       "      <td>...</td>\n",
       "      <td>0.0</td>\n",
       "      <td>0.0</td>\n",
       "      <td>0.0</td>\n",
       "      <td>0</td>\n",
       "      <td>0.0</td>\n",
       "      <td>0.0</td>\n",
       "      <td>20.0</td>\n",
       "      <td>Active</td>\n",
       "      <td>0</td>\n",
       "      <td>0</td>\n",
       "    </tr>\n",
       "  </tbody>\n",
       "</table>\n",
       "<p>1 rows × 161 columns</p>\n",
       "</div>"
      ],
      "text/plain": [
       "   SK_ID_CURR NAME_CONTRACT_TYPE CODE_GENDER FLAG_OWN_CAR FLAG_OWN_REALTY  \\\n",
       "0      100043         Cash loans           F            N               Y   \n",
       "\n",
       "   CNT_CHILDREN  AMT_INCOME_TOTAL  AMT_CREDIT  AMT_ANNUITY_x  AMT_GOODS_PRICE  \\\n",
       "0             2          198000.0    641173.5        23157.0         553500.0   \n",
       "\n",
       "      ...     AMT_RECIVABLE AMT_TOTAL_RECEIVABLE CNT_DRAWINGS_ATM_CURRENT  \\\n",
       "0     ...               0.0                  0.0                      0.0   \n",
       "\n",
       "  CNT_DRAWINGS_CURRENT CNT_DRAWINGS_OTHER_CURRENT  CNT_DRAWINGS_POS_CURRENT  \\\n",
       "0                    0                        0.0                       0.0   \n",
       "\n",
       "   CNT_INSTALMENT_MATURE_CUM  NAME_CONTRACT_STATUS  SK_DPD  SK_DPD_DEF  \n",
       "0                       20.0                Active       0           0  \n",
       "\n",
       "[1 rows x 161 columns]"
      ]
     },
     "execution_count": 20,
     "metadata": {},
     "output_type": "execute_result"
    }
   ],
   "source": [
    "# Take training labels from training dataset\n",
    "\n",
    "application_labels_train = data_train['TARGET']\n",
    "\n",
    "# Remove target labels from training dataset\n",
    "features_without_labels = data_train.drop('TARGET', axis = 1)\n",
    "\n",
    "features_without_labels.head(1)"
   ]
  },
  {
   "cell_type": "code",
   "execution_count": 21,
   "metadata": {},
   "outputs": [
    {
     "name": "stdout",
     "output_type": "stream",
     "text": [
      "total features after one-hot encoding. 283\n"
     ]
    }
   ],
   "source": [
    "# One-hot encoding of data using pandas.get_dummies()\n",
    "\n",
    "features_final = pd.get_dummies(pd.concat([features_without_labels,data_test],keys=[0,1]))\n",
    "\n",
    "encoded = list(features_final.columns)\n",
    "\n",
    "# Print the number of features after one-hot encoding\n",
    "print('total features after one-hot encoding. %d' % len(encoded))\n",
    "\n",
    "\n",
    "features_final_train=features_final.xs(0)\n",
    "features_final_test=features_final.xs(1)\n",
    "\n",
    "#Remove NA values\n",
    "features_final_train=features_final_train.fillna(0)\n",
    "features_final_test=features_final_test.fillna(0)\n"
   ]
  },
  {
   "cell_type": "code",
   "execution_count": 22,
   "metadata": {},
   "outputs": [
    {
     "name": "stdout",
     "output_type": "stream",
     "text": [
      "Training set has 585434 samples.\n",
      "Testing set has 146359 samples.\n"
     ]
    }
   ],
   "source": [
    "# Import train_test_split\n",
    "from sklearn.model_selection  import train_test_split\n",
    "\n",
    "# Split the 'features' and 'income' data into training and testing sets\n",
    "X_train, X_test, y_train, y_test = train_test_split(features_final_train, \n",
    "                                                    application_labels_train, \n",
    "                                                    test_size = 0.2, \n",
    "                                                    random_state = 0)\n",
    "\n",
    "# Show the results of the split\n",
    "print(\"Training set has %d samples.\" % X_train.shape[0])\n",
    "print(\"Testing set has %d samples.\" % X_test.shape[0])\n",
    "#X_train"
   ]
  },
  {
   "cell_type": "code",
   "execution_count": 23,
   "metadata": {},
   "outputs": [
    {
     "name": "stdout",
     "output_type": "stream",
     "text": [
      "0.07995157100436873\n",
      "0.09798102944722811\n"
     ]
    }
   ],
   "source": [
    "# TODO: Calculate Naive Model accuracy, precision and recall\n",
    "accuracy = np.sum(application_labels_train) / len(application_labels_train)\n",
    "\n",
    "recall = 1\n",
    "precision = np.sum(application_labels_train) / (np.sum(application_labels_train) + (len(application_labels_train)-np.sum(application_labels_train)))\n",
    "\n",
    "# TODO: Calculate F-score using the formula above for beta = 0.5 and correct values for precision and recall.\n",
    "fscore = ((1 + np.square(.5))*precision*recall) /  ((np.square(.5)*precision)+recall)\n"
   ]
  },
  {
   "cell_type": "code",
   "execution_count": 47,
   "metadata": {},
   "outputs": [
    {
     "name": "stdout",
     "output_type": "stream",
     "text": [
      "Accuracy for training predictions of Naive Model is 0.0800\n",
      "Accuracy for testing predictions of Naive Model is 0.0980\n"
     ]
    }
   ],
   "source": [
    "# Print the results \n",
    "print(\"Accuracy for training predictions of Naive Model is %s\" %(format(accuracy, '.4f')))\n",
    "print(\"Accuracy for testing predictions of Naive Model is %s\" %(format(fscore, '.4f')))"
   ]
  },
  {
   "cell_type": "code",
   "execution_count": 24,
   "metadata": {},
   "outputs": [
    {
     "name": "stdout",
     "output_type": "stream",
     "text": [
      "0.9168480136104156\n",
      "0.9158985781537179\n",
      "0.06368746302018276\n",
      "0.06759379042690815\n"
     ]
    }
   ],
   "source": [
    "from sklearn.linear_model import LogisticRegression\n",
    "from sklearn.metrics import accuracy_score,fbeta_score\n",
    "\n",
    "import sklearn.decomposition as skdc ##Includes Principal Component Analysis, a method of dimensionality reduction\n",
    "import sklearn.pipeline as skpl\n",
    "from sklearn.model_selection import GridSearchCV\n",
    "\n",
    "pca = skdc.PCA() #empty model space\n",
    "#pcafit = pca.fit_transform(X_train, y_train)\n",
    "\n",
    "#pca = skdc.PCA(n_components = 10) #only include first 10 components\n",
    "logreg = LogisticRegression()#empty model space\n",
    "pca_logistic_regressor_pipe = skpl.Pipeline([('pca', pca), ('logistic', logreg)]) \n",
    "\n",
    "n_components = [10, 20, 30]\n",
    "Cs = np.logspace(-4, 4, 3)\n",
    "\n",
    "# Parameters of pipelines can be set using ‘__’ separated parameter names:\n",
    "grid_obj = GridSearchCV(pca_logistic_regressor_pipe,\n",
    "                         dict(pca__n_components=n_components,logistic__C=Cs))\n",
    "\n",
    "grid_fit = grid_obj.fit(X_train,y_train)\n",
    "\n",
    "# Get the estimator\n",
    "best_clf = grid_fit.best_estimator_\n",
    "\n",
    "#pca_logistic_regressor_pipe.fit(X_train, y_train)\n",
    "\n",
    "#logistic_regressor = LogisticRegression()\n",
    "\n",
    "#logistic_regressor.fit(X_train, y_train)\n",
    "\n",
    "\n",
    "start = time() # Get start time\n",
    "predictions_test = best_clf.predict(X_test) #None\n",
    "predictions_train = best_clf.predict(X_train)\n",
    "end = time() # Get end time\n",
    "\n",
    "np.savetxt('predictions_test.txt', predictions_test)\n",
    "np.savetxt('predictions_train.txt', predictions_train)\n",
    "\n",
    "results = {}\n",
    "# TODO: Calculate the total prediction time\n",
    "results['pred_time'] = end - start\n",
    "\n",
    "# TODO: Compute accuracy on training data\n",
    "results['acc_train'] = accuracy_score(y_train,predictions_train)\n",
    "\n",
    "# TODO: Compute accuracy on test data\n",
    "results['acc_test'] = accuracy_score(y_test,predictions_test)\n",
    "\n",
    "# TODO: Compute F-score on training data\n",
    "results['f_train'] = fbeta_score(y_train,predictions_train,beta=0.5)\n",
    "\n",
    "# TODO: Compute F-score on test data\n",
    "results['f_test'] = fbeta_score(y_test,predictions_test,beta=0.5)\n",
    "\n",
    "# Success\n",
    "#print \"{} trained on {} samples.\".format(learner.__class__.__name__, sample_size)\n",
    "\n",
    "print(results['acc_train'])\n",
    "print(results['acc_test'])\n",
    "print(results['f_train'])\n",
    "print(results['f_test'])"
   ]
  },
  {
   "cell_type": "code",
   "execution_count": 46,
   "metadata": {},
   "outputs": [
    {
     "name": "stdout",
     "output_type": "stream",
     "text": [
      "Accuracy for training predictions is 0.9168\n",
      "Accuracy for testing predictions is 0.9159\n"
     ]
    }
   ],
   "source": [
    "#print('' + results['acc_train'].tostring)\n",
    "\n",
    "print(\"Accuracy for training predictions is %s\" %(format(results['acc_train'], '.4f')))\n",
    "print(\"Accuracy for testing predictions is %s\" %(format(results['acc_test'], '.4f')))\n"
   ]
  },
  {
   "cell_type": "code",
   "execution_count": 26,
   "metadata": {},
   "outputs": [],
   "source": [
    "predictions_test_actual = best_clf.predict(features_final_test)\n",
    "np.savetxt('file_Ravi.txt', predictions_test_actual)"
   ]
  },
  {
   "cell_type": "code",
   "execution_count": null,
   "metadata": {},
   "outputs": [],
   "source": [
    "np.savetxt('y_train.txt', y_train)"
   ]
  },
  {
   "cell_type": "code",
   "execution_count": null,
   "metadata": {},
   "outputs": [],
   "source": [
    "predictions_test_prob_actual = best_clf.predict_log_proba(features_final_test)\n",
    "np.savetxt('file_Ravi_prob.txt', y_train)"
   ]
  },
  {
   "cell_type": "code",
   "execution_count": null,
   "metadata": {},
   "outputs": [],
   "source": [
    "np.savetxt('file_Ravi1.txt', predictions_test_actual, fmt='%s')"
   ]
  },
  {
   "cell_type": "code",
   "execution_count": null,
   "metadata": {},
   "outputs": [],
   "source": [
    "df = pd.DataFrame(features_final_test['SK_ID_CURR'], predictions_test_actual)\n",
    "df.to_csv(\"Ravi_Test.csv\", index=False)"
   ]
  },
  {
   "cell_type": "code",
   "execution_count": null,
   "metadata": {},
   "outputs": [],
   "source": [
    "type(features_final_train)"
   ]
  },
  {
   "cell_type": "code",
   "execution_count": null,
   "metadata": {},
   "outputs": [],
   "source": [
    "new_df = features_final_train.copy()\n",
    "len(new_df)"
   ]
  },
  {
   "cell_type": "code",
   "execution_count": null,
   "metadata": {},
   "outputs": [],
   "source": [
    "new_df.drop_duplicates(subset='SK_ID_CURR',keep='first')\n",
    "len(new_df)"
   ]
  },
  {
   "cell_type": "code",
   "execution_count": null,
   "metadata": {},
   "outputs": [],
   "source": [
    "new_df = new_df.reset_index().drop_duplicates(subset='SK_ID_CURR', keep='first')"
   ]
  },
  {
   "cell_type": "code",
   "execution_count": null,
   "metadata": {},
   "outputs": [],
   "source": [
    "len(new_df)"
   ]
  },
  {
   "cell_type": "code",
   "execution_count": null,
   "metadata": {},
   "outputs": [],
   "source": [
    "new_df"
   ]
  },
  {
   "cell_type": "code",
   "execution_count": 48,
   "metadata": {},
   "outputs": [
    {
     "data": {
      "text/plain": [
       "(731793, 161)"
      ]
     },
     "execution_count": 48,
     "metadata": {},
     "output_type": "execute_result"
    }
   ],
   "source": [
    "features_without_labels.shape"
   ]
  },
  {
   "cell_type": "code",
   "execution_count": 56,
   "metadata": {},
   "outputs": [
    {
     "data": {
      "text/plain": [
       "0          100013\n",
       "22080      100028\n",
       "49520      100042\n",
       "101180     100066\n",
       "102020     100067\n",
       "130817     100090\n",
       "131321     100107\n",
       "131332     100109\n",
       "170990     100128\n",
       "183772     100169\n",
       "183856     100170\n",
       "186243     100171\n",
       "224931     100187\n",
       "225811     100312\n",
       "243766     100330\n",
       "258378     100386\n",
       "259002     100416\n",
       "262915     100422\n",
       "265874     100426\n",
       "308018     100517\n",
       "321086     100551\n",
       "323060     100561\n",
       "328730     100622\n",
       "329289     100752\n",
       "334329     100753\n",
       "335925     100754\n",
       "339812     100763\n",
       "344810     100765\n",
       "344948     100791\n",
       "349316     100797\n",
       "            ...  \n",
       "4620270    111664\n",
       "4631523    111665\n",
       "4633383    111669\n",
       "4652775    111688\n",
       "4652871    111698\n",
       "4669479    111712\n",
       "4672709    111715\n",
       "4712141    111760\n",
       "4716396    111777\n",
       "4717080    111781\n",
       "4721018    111830\n",
       "4736151    111841\n",
       "4741986    111842\n",
       "4746956    111856\n",
       "4752476    111857\n",
       "4778588    111882\n",
       "4779960    111883\n",
       "4782396    111891\n",
       "4794012    111901\n",
       "4795592    112019\n",
       "4826752    112028\n",
       "4838992    112031\n",
       "4841008    112039\n",
       "4841840    112042\n",
       "4843190    112052\n",
       "4843340    112085\n",
       "4845296    112171\n",
       "4848716    112186\n",
       "4873868    112203\n",
       "4878859    112214\n",
       "Name: SK_ID_CURR, Length: 500, dtype: int64"
      ]
     },
     "execution_count": 56,
     "metadata": {},
     "output_type": "execute_result"
    }
   ],
   "source": [
    "data_test['SK_ID_CURR']"
   ]
  },
  {
   "cell_type": "code",
   "execution_count": 58,
   "metadata": {},
   "outputs": [],
   "source": [
    "\n",
    "df = pd.DataFrame(data_test['SK_ID_CURR'], columns=[\"SK_ID_CURR\"])\n",
    "df['TARGET'] = predictions_test_actual\n",
    "df.to_csv(\"Home_Credit_Default_Risk_Predictions.csv\", index=False)"
   ]
  },
  {
   "cell_type": "code",
   "execution_count": null,
   "metadata": {},
   "outputs": [],
   "source": []
  }
 ],
 "metadata": {
  "kernelspec": {
   "display_name": "Python 3",
   "language": "python",
   "name": "python3"
  },
  "language_info": {
   "codemirror_mode": {
    "name": "ipython",
    "version": 3
   },
   "file_extension": ".py",
   "mimetype": "text/x-python",
   "name": "python",
   "nbconvert_exporter": "python",
   "pygments_lexer": "ipython3",
   "version": "3.5.5"
  }
 },
 "nbformat": 4,
 "nbformat_minor": 2
}
